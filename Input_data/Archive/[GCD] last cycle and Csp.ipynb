{
 "cells": [
  {
   "cell_type": "code",
   "execution_count": 1,
   "metadata": {
    "scrolled": false
   },
   "outputs": [
    {
     "name": "stdout",
     "output_type": "stream",
     "text": [
      "Csp from GCD :  41.61609409190372 [F/g]\n",
      "ESR is :  62.15817000000001 [Ohm]\n"
     ]
    }
   ],
   "source": [
    "import pandas as pd\n",
    "import matplotlib.pyplot as plt\n",
    "\n",
    "# import the file\n",
    "data = pd.read_csv('[P2-7] total test at day32 -Resin_03_CP.mpt', header = 48, sep = \"\\t\", encoding ='latin1')\n",
    "cycle = 5\n",
    "mass = 0.001371\n",
    "current = 0.001\n",
    "\n",
    "# column and row filtering & export\n",
    "data = data[data['cycle number'] == cycle]\n",
    "Q_disc = data['dQ/C'].min()\n",
    "data = data[['time/s', 'Ewe/V']]\n",
    "time_min = data['time/s'].min()\n",
    "data['time/s'] = data['time/s'] - time_min\n",
    "data.to_csv('GCD_filtered.csv', index = False, header = False)\n",
    "\n",
    "# plot\n",
    "plt.plot(data['time/s'], data['Ewe/V'])\n",
    "plt.xlabel('time, s')\n",
    "plt.ylabel('Voltage, V')\n",
    "\n",
    "# Csp calculation\n",
    "C_sp_GCD = 4 * -Q_disc / 0.8 / mass\n",
    "print('Csp from GCD : ', C_sp_GCD, '[F/g]')\n",
    "\n",
    "# ESR calculation\n",
    "data['delta_V'] = data['Ewe/V'].diff()\n",
    "IR_drop = data['delta_V'].min()\n",
    "ESR = -IR_drop / current\n",
    "print('ESR is : ', ESR, '[Ohm]')\n"
   ]
  },
  {
   "cell_type": "markdown",
   "metadata": {},
   "source": []
  }
 ],
 "metadata": {
  "kernelspec": {
   "display_name": "Python 3",
   "language": "python",
   "name": "python3"
  },
  "language_info": {
   "codemirror_mode": {
    "name": "ipython",
    "version": 3
   },
   "file_extension": ".py",
   "mimetype": "text/x-python",
   "name": "python",
   "nbconvert_exporter": "python",
   "pygments_lexer": "ipython3",
   "version": "3.7.4"
  }
 },
 "nbformat": 4,
 "nbformat_minor": 2
}
