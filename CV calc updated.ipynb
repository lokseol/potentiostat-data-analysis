{
 "cells": [
  {
   "cell_type": "code",
   "execution_count": 6,
   "metadata": {
    "scrolled": true
   },
   "outputs": [
    {
     "name": "stdout",
     "output_type": "stream",
     "text": [
      "      mode  ox/red  error  control changes  counter inc.       time/s  \\\n",
      "2611     2       1      0                1             1  2067.069769   \n",
      "2612     2       1      0                1             1  2067.223769   \n",
      "2613     2       1      0                1             1  2067.377769   \n",
      "2614     2       1      0                1             1  2067.531669   \n",
      "2615     2       1      0                0             1  2067.685569   \n",
      "...    ...     ...    ...              ...           ...          ...   \n",
      "3128     2       0      0                0             1  2146.568767   \n",
      "3129     2       0      0                0             1  2146.722767   \n",
      "3130     2       0      0                0             1  2146.876767   \n",
      "3131     2       0      0                0             1  2146.961467   \n",
      "3132     2       0      0                0             1  2146.974667   \n",
      "\n",
      "      control/V     Ewe/V    <I>/mA  cycle number  (Q-Qo)/C           P/W  \\\n",
      "2611   0.001801  0.001432 -0.470423           6.0  0.009529 -6.738444e-07   \n",
      "2612   0.004879  0.004516 -0.399057           6.0  0.009463 -1.802306e-06   \n",
      "2613   0.007958  0.007582 -0.343890           6.0  0.009406 -2.607497e-06   \n",
      "2614   0.011038  0.010684 -0.298396           6.0  0.009357 -3.187999e-06   \n",
      "2615   0.014116  0.013743 -0.260025           6.0  0.009315 -3.573507e-06   \n",
      "...         ...       ...       ...           ...       ...           ...   \n",
      "3128   0.008266  0.007856 -0.523301           6.0  0.010176 -4.111089e-06   \n",
      "3129   0.005187  0.004782 -0.523739           6.0  0.010095 -2.504327e-06   \n",
      "3130   0.002108  0.001731 -0.524214           6.0  0.010014 -9.071695e-07   \n",
      "3131   0.000415  0.000170 -0.524853           6.0  0.009970 -8.921026e-08   \n",
      "3132  -0.000107 -0.000231 -0.525337           6.0  0.009963  1.213748e-07   \n",
      "\n",
      "      Unnamed: 12  \n",
      "2611          NaN  \n",
      "2612          NaN  \n",
      "2613          NaN  \n",
      "2614          NaN  \n",
      "2615          NaN  \n",
      "...           ...  \n",
      "3128          NaN  \n",
      "3129          NaN  \n",
      "3130          NaN  \n",
      "3131          NaN  \n",
      "3132          NaN  \n",
      "\n",
      "[522 rows x 13 columns]\n"
     ]
    }
   ],
   "source": [
    "import pandas as pd\n",
    "\n",
    "# import the file\n",
    "data = pd.read_csv('[P2-7] total test at day32 -Resin_02_CV.mpt', header=52, sep = \"\\t\")\n",
    "\n",
    "# column and row filtering\n",
    "data = data[data['cycle number'] == 6]\n",
    "data = data[['Ewe/V','<I>/mA']]\n",
    "\n",
    "# VI area calculation\n",
    "data['delta_x'] = data['Ewe/V'].diff()\n",
    "data['segment_area'] = data['delta_x'] * data['<I>/mA']\n",
    "VI_area = data['segment_area'].sum(axis=0)\n",
    "\n",
    "# C_sp calculation\n",
    "mass = 0.001371\n",
    "scan_rate = 20\n",
    "Vmax = 0.8\n",
    "C_sp = 4 * 0.5 * VI_area / mass / scan_rate / Vmax\n",
    "C_sp\n"
   ]
  },
  {
   "cell_type": "code",
   "execution_count": 17,
   "metadata": {},
   "outputs": [
    {
     "name": "stdout",
     "output_type": "stream",
     "text": [
      "53.292927355442146\n"
     ]
    },
    {
     "data": {
      "image/png": "[encoded data removed]",
      "text/plain": [
       "<Figure size 432x288 with 1 Axes>"
      ]
     },
     "metadata": {
      "needs_background": "light"
     },
     "output_type": "display_data"
    }
   ],
   "source": [
    "import pandas as pd\n",
    "import matplotlib.pyplot as plt\n",
    "\n",
    "# import the file\n",
    "data = pd.read_csv('[P2-7] total test at day32 -Resin_02_CV.mpt', header=52, sep = \"\\t\")\n",
    "\n",
    "# column and row filtering\n",
    "data = data[data['cycle number'] == 6]\n",
    "data = data[['Ewe/V','<I>/mA']]\n",
    "plt.plot(data['Ewe/V'],data['<I>/mA'], label='SC-PP day 32')\n",
    "plt.xlabel('Voltage, V')\n",
    "plt.ylabel('Current, mA')\n",
    "plt.legend()\n",
    "\n",
    "# VI area calculation\n",
    "data['delta_x'] = data['Ewe/V'].diff()\n",
    "data['segment_area'] = data['delta_x'] * data['<I>/mA']\n",
    "VI_area = data['segment_area'].sum(axis=0)\n",
    "\n",
    "# C_sp calculation\n",
    "mass = 0.001371\n",
    "scan_rate = 20\n",
    "Vmax = 0.8\n",
    "C_sp = 4 * 0.5 * VI_area / mass / scan_rate / Vmax\n",
    "print(C_sp)"
   ]
  },
  {
   "cell_type": "code",
   "execution_count": null,
   "metadata": {},
   "outputs": [],
   "source": []
  }
 ],
 "metadata": {
  "kernelspec": {
   "display_name": "Python 3",
   "language": "python",
   "name": "python3"
  },
  "language_info": {
   "codemirror_mode": {
    "name": "ipython",
    "version": 3
   },
   "file_extension": ".py",
   "mimetype": "text/x-python",
   "name": "python",
   "nbconvert_exporter": "python",
   "pygments_lexer": "ipython3",
   "version": "3.7.4"
  }
 },
 "nbformat": 4,
 "nbformat_minor": 2
}
