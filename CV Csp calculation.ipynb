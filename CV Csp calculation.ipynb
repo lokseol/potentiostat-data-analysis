{
 "cells": [
  {
   "cell_type": "code",
   "execution_count": 42,
   "metadata": {
    "scrolled": true
   },
   "outputs": [
    {
     "data": {
      "text/plain": [
       "53.292927355442146"
      ]
     },
     "execution_count": 42,
     "metadata": {},
     "output_type": "execute_result"
    }
   ],
   "source": [
    "import pandas as pd\n",
    "\n",
    "# import the file\n",
    "data = pd.read_csv('[P2-7] total test at day32 -Resin_02_CV.mpt', header=52, sep = \"\\t\")\n",
    "\n",
    "# column and row filtering\n",
    "data = data[data['cycle number'] == 6]\n",
    "data = data[['Ewe/V','<I>/mA']]\n",
    "\n",
    "# VI area calculation\n",
    "data['delta_x'] = data['Ewe/V'].diff()\n",
    "data['segment_area'] = data['delta_x'] * data['<I>/mA']\n",
    "VI_area = data['segment_area'].sum()\n",
    "VI_area\n",
    "\n",
    "# C_sp calculation\n",
    "mass = 0.001371\n",
    "scan_rate = 20\n",
    "Vmax = 0.8\n",
    "C_sp = 4 * 0.5 * VI_area / mass / scan_rate / Vmax\n",
    "C_sp"
   ]
  },
  {
   "cell_type": "code",
   "execution_count": null,
   "metadata": {},
   "outputs": [],
   "source": []
  }
 ],
 "metadata": {
  "kernelspec": {
   "display_name": "Python 3",
   "language": "python",
   "name": "python3"
  },
  "language_info": {
   "codemirror_mode": {
    "name": "ipython",
    "version": 3
   },
   "file_extension": ".py",
   "mimetype": "text/x-python",
   "name": "python",
   "nbconvert_exporter": "python",
   "pygments_lexer": "ipython3",
   "version": "3.7.4"
  }
 },
 "nbformat": 4,
 "nbformat_minor": 2
}
